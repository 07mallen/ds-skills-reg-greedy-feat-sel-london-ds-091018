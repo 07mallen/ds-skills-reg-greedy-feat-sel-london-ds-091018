{
 "cells": [
  {
   "cell_type": "markdown",
   "metadata": {},
   "source": [
    "# Feature Selection: An Introduction to Advanced Regression Techniques\n",
    "\n",
    "In this lab you'll continue to investigate regression models and how models can be over or underfit. We'll also continue to see the role multicollinearity plays in creating regression models. This will then lead us to investigating Regularization techniques such as Lasso and Ridge regression in the next section.  \n",
    "\n",
    "Today's dataset has a large number of features concerning real estate properties. The final column of this dataset is 'Sales Price' which we would like to create a regression model for. This model could have several purposes. First, if we have data about a property, we would like to know roughly how much the property is apt to sell for. Secondly, we would like to know what features (such as location, number of bedrooms, bathrooms, etc.) are most impactful in determining sales price so that we could prioritize potential home improvements to increase profits."
   ]
  },
  {
   "cell_type": "markdown",
   "metadata": {},
   "source": [
    "# Recall the General Outline for Regression\n",
    "\n",
    "1. Import Data\n",
    "2. Preprocess\n",
    "3. Train-Test Split\n",
    "4. Initialize Model\n",
    "5. Fit Model\n",
    "6. Calculate Errors\n",
    "7. Repeat steps 2-6 with additional feature engineering "
   ]
  },
  {
   "cell_type": "markdown",
   "metadata": {},
   "source": [
    "# 1) Import the Data"
   ]
  },
  {
   "cell_type": "code",
   "execution_count": 1,
   "metadata": {},
   "outputs": [],
   "source": [
    "import pandas as pd"
   ]
  },
  {
   "cell_type": "code",
   "execution_count": 2,
   "metadata": {},
   "outputs": [
    {
     "name": "stdout",
     "output_type": "stream",
     "text": [
      "1460\n"
     ]
    },
    {
     "data": {
      "text/html": [
       "<div>\n",
       "<style scoped>\n",
       "    .dataframe tbody tr th:only-of-type {\n",
       "        vertical-align: middle;\n",
       "    }\n",
       "\n",
       "    .dataframe tbody tr th {\n",
       "        vertical-align: top;\n",
       "    }\n",
       "\n",
       "    .dataframe thead th {\n",
       "        text-align: right;\n",
       "    }\n",
       "</style>\n",
       "<table border=\"1\" class=\"dataframe\">\n",
       "  <thead>\n",
       "    <tr style=\"text-align: right;\">\n",
       "      <th></th>\n",
       "      <th>Id</th>\n",
       "      <th>MSSubClass</th>\n",
       "      <th>MSZoning</th>\n",
       "      <th>LotFrontage</th>\n",
       "      <th>LotArea</th>\n",
       "      <th>Street</th>\n",
       "      <th>Alley</th>\n",
       "      <th>LotShape</th>\n",
       "      <th>LandContour</th>\n",
       "      <th>Utilities</th>\n",
       "      <th>...</th>\n",
       "      <th>PoolArea</th>\n",
       "      <th>PoolQC</th>\n",
       "      <th>Fence</th>\n",
       "      <th>MiscFeature</th>\n",
       "      <th>MiscVal</th>\n",
       "      <th>MoSold</th>\n",
       "      <th>YrSold</th>\n",
       "      <th>SaleType</th>\n",
       "      <th>SaleCondition</th>\n",
       "      <th>SalePrice</th>\n",
       "    </tr>\n",
       "  </thead>\n",
       "  <tbody>\n",
       "    <tr>\n",
       "      <th>0</th>\n",
       "      <td>1</td>\n",
       "      <td>60</td>\n",
       "      <td>RL</td>\n",
       "      <td>65.0</td>\n",
       "      <td>8450</td>\n",
       "      <td>Pave</td>\n",
       "      <td>NaN</td>\n",
       "      <td>Reg</td>\n",
       "      <td>Lvl</td>\n",
       "      <td>AllPub</td>\n",
       "      <td>...</td>\n",
       "      <td>0</td>\n",
       "      <td>NaN</td>\n",
       "      <td>NaN</td>\n",
       "      <td>NaN</td>\n",
       "      <td>0</td>\n",
       "      <td>2</td>\n",
       "      <td>2008</td>\n",
       "      <td>WD</td>\n",
       "      <td>Normal</td>\n",
       "      <td>208500</td>\n",
       "    </tr>\n",
       "    <tr>\n",
       "      <th>1</th>\n",
       "      <td>2</td>\n",
       "      <td>20</td>\n",
       "      <td>RL</td>\n",
       "      <td>80.0</td>\n",
       "      <td>9600</td>\n",
       "      <td>Pave</td>\n",
       "      <td>NaN</td>\n",
       "      <td>Reg</td>\n",
       "      <td>Lvl</td>\n",
       "      <td>AllPub</td>\n",
       "      <td>...</td>\n",
       "      <td>0</td>\n",
       "      <td>NaN</td>\n",
       "      <td>NaN</td>\n",
       "      <td>NaN</td>\n",
       "      <td>0</td>\n",
       "      <td>5</td>\n",
       "      <td>2007</td>\n",
       "      <td>WD</td>\n",
       "      <td>Normal</td>\n",
       "      <td>181500</td>\n",
       "    </tr>\n",
       "    <tr>\n",
       "      <th>2</th>\n",
       "      <td>3</td>\n",
       "      <td>60</td>\n",
       "      <td>RL</td>\n",
       "      <td>68.0</td>\n",
       "      <td>11250</td>\n",
       "      <td>Pave</td>\n",
       "      <td>NaN</td>\n",
       "      <td>IR1</td>\n",
       "      <td>Lvl</td>\n",
       "      <td>AllPub</td>\n",
       "      <td>...</td>\n",
       "      <td>0</td>\n",
       "      <td>NaN</td>\n",
       "      <td>NaN</td>\n",
       "      <td>NaN</td>\n",
       "      <td>0</td>\n",
       "      <td>9</td>\n",
       "      <td>2008</td>\n",
       "      <td>WD</td>\n",
       "      <td>Normal</td>\n",
       "      <td>223500</td>\n",
       "    </tr>\n",
       "    <tr>\n",
       "      <th>3</th>\n",
       "      <td>4</td>\n",
       "      <td>70</td>\n",
       "      <td>RL</td>\n",
       "      <td>60.0</td>\n",
       "      <td>9550</td>\n",
       "      <td>Pave</td>\n",
       "      <td>NaN</td>\n",
       "      <td>IR1</td>\n",
       "      <td>Lvl</td>\n",
       "      <td>AllPub</td>\n",
       "      <td>...</td>\n",
       "      <td>0</td>\n",
       "      <td>NaN</td>\n",
       "      <td>NaN</td>\n",
       "      <td>NaN</td>\n",
       "      <td>0</td>\n",
       "      <td>2</td>\n",
       "      <td>2006</td>\n",
       "      <td>WD</td>\n",
       "      <td>Abnorml</td>\n",
       "      <td>140000</td>\n",
       "    </tr>\n",
       "    <tr>\n",
       "      <th>4</th>\n",
       "      <td>5</td>\n",
       "      <td>60</td>\n",
       "      <td>RL</td>\n",
       "      <td>84.0</td>\n",
       "      <td>14260</td>\n",
       "      <td>Pave</td>\n",
       "      <td>NaN</td>\n",
       "      <td>IR1</td>\n",
       "      <td>Lvl</td>\n",
       "      <td>AllPub</td>\n",
       "      <td>...</td>\n",
       "      <td>0</td>\n",
       "      <td>NaN</td>\n",
       "      <td>NaN</td>\n",
       "      <td>NaN</td>\n",
       "      <td>0</td>\n",
       "      <td>12</td>\n",
       "      <td>2008</td>\n",
       "      <td>WD</td>\n",
       "      <td>Normal</td>\n",
       "      <td>250000</td>\n",
       "    </tr>\n",
       "  </tbody>\n",
       "</table>\n",
       "<p>5 rows × 81 columns</p>\n",
       "</div>"
      ],
      "text/plain": [
       "   Id  MSSubClass MSZoning  LotFrontage  LotArea Street Alley LotShape  \\\n",
       "0   1          60       RL         65.0     8450   Pave   NaN      Reg   \n",
       "1   2          20       RL         80.0     9600   Pave   NaN      Reg   \n",
       "2   3          60       RL         68.0    11250   Pave   NaN      IR1   \n",
       "3   4          70       RL         60.0     9550   Pave   NaN      IR1   \n",
       "4   5          60       RL         84.0    14260   Pave   NaN      IR1   \n",
       "\n",
       "  LandContour Utilities    ...     PoolArea PoolQC Fence MiscFeature MiscVal  \\\n",
       "0         Lvl    AllPub    ...            0    NaN   NaN         NaN       0   \n",
       "1         Lvl    AllPub    ...            0    NaN   NaN         NaN       0   \n",
       "2         Lvl    AllPub    ...            0    NaN   NaN         NaN       0   \n",
       "3         Lvl    AllPub    ...            0    NaN   NaN         NaN       0   \n",
       "4         Lvl    AllPub    ...            0    NaN   NaN         NaN       0   \n",
       "\n",
       "  MoSold YrSold  SaleType  SaleCondition  SalePrice  \n",
       "0      2   2008        WD         Normal     208500  \n",
       "1      5   2007        WD         Normal     181500  \n",
       "2      9   2008        WD         Normal     223500  \n",
       "3      2   2006        WD        Abnorml     140000  \n",
       "4     12   2008        WD         Normal     250000  \n",
       "\n",
       "[5 rows x 81 columns]"
      ]
     },
     "execution_count": 2,
     "metadata": {},
     "output_type": "execute_result"
    }
   ],
   "source": [
    "df = pd.read_csv('Housing_Kaggle/train.csv')\n",
    "print(len(df))\n",
    "df.head()"
   ]
  },
  {
   "cell_type": "code",
   "execution_count": 3,
   "metadata": {},
   "outputs": [],
   "source": [
    "pd.plotting.scatter_matrix(df, figsize=(15,15));"
   ]
  },
  {
   "cell_type": "markdown",
   "metadata": {},
   "source": [
    "# Feature selection by adding one attribute at a time\n",
    "Iterate through each feature and calculate the r^2 coefficient for at least 3 different train test split samples. Store these values in a dictionary so that you have\n",
    "model_scores = {col_name : (avg_r^2_train, avg_r^2_test)} for each column. Then create a dataframe of these values and sort it by the average test score. Preview the top 5 predictive features.\n",
    "\n"
   ]
  },
  {
   "cell_type": "code",
   "execution_count": 4,
   "metadata": {},
   "outputs": [],
   "source": [
    "import numpy as np\n",
    "import matplotlib.pyplot as plt\n",
    "import seaborn as sns\n",
    "from sklearn.linear_model import LinearRegression\n",
    "from sklearn.model_selection import train_test_split\n",
    "%matplotlib inline"
   ]
  },
  {
   "cell_type": "code",
   "execution_count": 5,
   "metadata": {},
   "outputs": [],
   "source": [
    "X = df.drop('SalePrice', axis=1)\n",
    "y = df.SalePrice"
   ]
  },
  {
   "cell_type": "code",
   "execution_count": 6,
   "metadata": {},
   "outputs": [
    {
     "name": "stdout",
     "output_type": "stream",
     "text": [
      "(0.6233504337091215, 0.6347596402211834)\n"
     ]
    },
    {
     "data": {
      "text/html": [
       "<div>\n",
       "<style scoped>\n",
       "    .dataframe tbody tr th:only-of-type {\n",
       "        vertical-align: middle;\n",
       "    }\n",
       "\n",
       "    .dataframe tbody tr th {\n",
       "        vertical-align: top;\n",
       "    }\n",
       "\n",
       "    .dataframe thead th {\n",
       "        text-align: right;\n",
       "    }\n",
       "</style>\n",
       "<table border=\"1\" class=\"dataframe\">\n",
       "  <thead>\n",
       "    <tr style=\"text-align: right;\">\n",
       "      <th></th>\n",
       "      <th>Train_r2</th>\n",
       "      <th>Test_r2</th>\n",
       "    </tr>\n",
       "  </thead>\n",
       "  <tbody>\n",
       "    <tr>\n",
       "      <th>OverallQual</th>\n",
       "      <td>0.623350</td>\n",
       "      <td>0.634760</td>\n",
       "    </tr>\n",
       "    <tr>\n",
       "      <th>TotalBsmtSF</th>\n",
       "      <td>0.360389</td>\n",
       "      <td>0.423886</td>\n",
       "    </tr>\n",
       "    <tr>\n",
       "      <th>GrLivArea</th>\n",
       "      <td>0.526070</td>\n",
       "      <td>0.412337</td>\n",
       "    </tr>\n",
       "    <tr>\n",
       "      <th>GarageArea</th>\n",
       "      <td>0.381030</td>\n",
       "      <td>0.410302</td>\n",
       "    </tr>\n",
       "    <tr>\n",
       "      <th>GarageCars</th>\n",
       "      <td>0.416398</td>\n",
       "      <td>0.386165</td>\n",
       "    </tr>\n",
       "  </tbody>\n",
       "</table>\n",
       "</div>"
      ],
      "text/plain": [
       "             Train_r2   Test_r2\n",
       "OverallQual  0.623350  0.634760\n",
       "TotalBsmtSF  0.360389  0.423886\n",
       "GrLivArea    0.526070  0.412337\n",
       "GarageArea   0.381030  0.410302\n",
       "GarageCars   0.416398  0.386165"
      ]
     },
     "execution_count": 6,
     "metadata": {},
     "output_type": "execute_result"
    }
   ],
   "source": [
    "ols = LinearRegression()\n",
    "model_scores = {}\n",
    "for col in X.columns:\n",
    "    try:\n",
    "        train_r2 = []\n",
    "        test_r2 = []\n",
    "        for i in range(3):\n",
    "            X_train, X_test, y_train, y_test = train_test_split(X, y)\n",
    "            ols.fit(np.array(X_train[col]).reshape(-1,1), y_train)\n",
    "            train_r2.append(ols.score(np.array(X_train[col]).reshape(-1,1), y_train))\n",
    "            test_r2.append(ols.score(np.array(X_test[col]).reshape(-1,1), y_test))\n",
    "        model_scores[col] = (np.mean(train_r2), np.mean(test_r2))\n",
    "        if col == 'OverallQual':\n",
    "            print(model_scores[col])\n",
    "    except:\n",
    "        continue\n",
    "#         print(\"Couldn't perform regression using {}, probably not a numeric feature.\".format(col))\n",
    "#         print(\"Top feature attributes:\\n\", df[col].value_counts(normalize=True)[:5])\n",
    "model_scores = pd.DataFrame.from_dict(model_scores, orient='index')\n",
    "model_scores.columns = ['Train_r2', 'Test_r2']\n",
    "model_scores = model_scores.sort_values(by='Test_r2', ascending=False)\n",
    "model_scores.head()"
   ]
  },
  {
   "cell_type": "code",
   "execution_count": 7,
   "metadata": {},
   "outputs": [],
   "source": [
    "# Your code here\n",
    "#Iterate through columns\n",
    "#Perform a regression for 3 different train-test splits\n",
    "#Calculate train / test r^2 for each split\n",
    "#Store avg train r^2 and avg test r^2 in master dictionary\n",
    "#Turn master dictionary into dataframe\n",
    "#Sort dataframe by test r^2\n",
    "#Preview top 5 predictive features."
   ]
  },
  {
   "cell_type": "markdown",
   "metadata": {},
   "source": [
    "# Find the second most impactful feature in addition to the first.\n",
    "Iterate back through all of the column features (except Make note of the most predictive feature from above. Repeat the process to find the second most useful feature in conjunction with the most important feature. **Be sure to include 2 variables in each of your models; one will always be the most predictive from the previous exercise and the second will be some other column.** "
   ]
  },
  {
   "cell_type": "code",
   "execution_count": 9,
   "metadata": {},
   "outputs": [
    {
     "name": "stdout",
     "output_type": "stream",
     "text": [
      "could not convert string to float: 'RL'\n",
      "Input contains NaN, infinity or a value too large for dtype('float64').\n"
     ]
    },
    {
     "data": {
      "text/html": [
       "<div>\n",
       "<style scoped>\n",
       "    .dataframe tbody tr th:only-of-type {\n",
       "        vertical-align: middle;\n",
       "    }\n",
       "\n",
       "    .dataframe tbody tr th {\n",
       "        vertical-align: top;\n",
       "    }\n",
       "\n",
       "    .dataframe thead th {\n",
       "        text-align: right;\n",
       "    }\n",
       "</style>\n",
       "<table border=\"1\" class=\"dataframe\">\n",
       "  <thead>\n",
       "    <tr style=\"text-align: right;\">\n",
       "      <th></th>\n",
       "      <th>Train_r2</th>\n",
       "      <th>Test_r2</th>\n",
       "    </tr>\n",
       "  </thead>\n",
       "  <tbody>\n",
       "    <tr>\n",
       "      <th>GrLivArea</th>\n",
       "      <td>0.716578</td>\n",
       "      <td>0.694518</td>\n",
       "    </tr>\n",
       "    <tr>\n",
       "      <th>TotRmsAbvGrd</th>\n",
       "      <td>0.666643</td>\n",
       "      <td>0.691269</td>\n",
       "    </tr>\n",
       "    <tr>\n",
       "      <th>1stFlrSF</th>\n",
       "      <td>0.693233</td>\n",
       "      <td>0.688560</td>\n",
       "    </tr>\n",
       "    <tr>\n",
       "      <th>GarageArea</th>\n",
       "      <td>0.667524</td>\n",
       "      <td>0.686759</td>\n",
       "    </tr>\n",
       "    <tr>\n",
       "      <th>GarageCars</th>\n",
       "      <td>0.666893</td>\n",
       "      <td>0.670151</td>\n",
       "    </tr>\n",
       "  </tbody>\n",
       "</table>\n",
       "</div>"
      ],
      "text/plain": [
       "              Train_r2   Test_r2\n",
       "GrLivArea     0.716578  0.694518\n",
       "TotRmsAbvGrd  0.666643  0.691269\n",
       "1stFlrSF      0.693233  0.688560\n",
       "GarageArea    0.667524  0.686759\n",
       "GarageCars    0.666893  0.670151"
      ]
     },
     "execution_count": 9,
     "metadata": {},
     "output_type": "execute_result"
    }
   ],
   "source": [
    "# Your code here\n",
    "ols = LinearRegression()\n",
    "model2_scores = {}\n",
    "cur_feats = ['OverallQual']\n",
    "for iteration, col in enumerate(X.columns):\n",
    "    try:\n",
    "        train_r2 = []\n",
    "        test_r2 = []\n",
    "        feats = cur_feats + [col]\n",
    "        for i in range(3):\n",
    "            X_train, X_test, y_train, y_test = train_test_split(X, y)\n",
    "            ols.fit(X_train[feats], y_train)\n",
    "            train_r2.append(ols.score(X_train[feats], y_train))\n",
    "            test_r2.append(ols.score(X_test[feats], y_test))\n",
    "        model2_scores[col] = (np.mean(train_r2), np.mean(test_r2))\n",
    "    except Exception as e:\n",
    "        if iteration < 5:\n",
    "            print(e)\n",
    "        continue\n",
    "#         print(\"Couldn't perform regression using {}, probably not a numeric feature.\".format(col))\n",
    "#         print(\"Top feature attributes:\\n\", df[col].value_counts(normalize=True)[:5])\n",
    "model2_scores = pd.DataFrame.from_dict(model2_scores, orient='index')\n",
    "model2_scores.columns = ['Train_r2', 'Test_r2']\n",
    "model2_scores = model2_scores.sort_values(by='Test_r2', ascending=False)\n",
    "model2_scores.head()"
   ]
  },
  {
   "cell_type": "markdown",
   "metadata": {},
   "source": [
    "# Notes: Messy Scratchpad\n",
    "\n",
    "Here we demonstrate how you might start investigating and pulling apart some of the more complex nested objects in the code snippet above. This is how you yourself might play around with the code as you write and build a longer block like above, or try to decipher a longer block of code."
   ]
  },
  {
   "cell_type": "code",
   "execution_count": 10,
   "metadata": {},
   "outputs": [
    {
     "data": {
      "text/plain": [
       "['OverallQual']"
      ]
     },
     "execution_count": 10,
     "metadata": {},
     "output_type": "execute_result"
    }
   ],
   "source": [
    "cur_feats"
   ]
  },
  {
   "cell_type": "code",
   "execution_count": 11,
   "metadata": {},
   "outputs": [
    {
     "data": {
      "text/plain": [
       "'SaleCondition'"
      ]
     },
     "execution_count": 11,
     "metadata": {},
     "output_type": "execute_result"
    }
   ],
   "source": [
    "col"
   ]
  },
  {
   "cell_type": "code",
   "execution_count": 12,
   "metadata": {},
   "outputs": [
    {
     "data": {
      "text/plain": [
       "['OverallQual', 'SaleCondition']"
      ]
     },
     "execution_count": 12,
     "metadata": {},
     "output_type": "execute_result"
    }
   ],
   "source": [
    "cur_feats + [col]"
   ]
  },
  {
   "cell_type": "code",
   "execution_count": 13,
   "metadata": {},
   "outputs": [
    {
     "data": {
      "text/html": [
       "<div>\n",
       "<style scoped>\n",
       "    .dataframe tbody tr th:only-of-type {\n",
       "        vertical-align: middle;\n",
       "    }\n",
       "\n",
       "    .dataframe tbody tr th {\n",
       "        vertical-align: top;\n",
       "    }\n",
       "\n",
       "    .dataframe thead th {\n",
       "        text-align: right;\n",
       "    }\n",
       "</style>\n",
       "<table border=\"1\" class=\"dataframe\">\n",
       "  <thead>\n",
       "    <tr style=\"text-align: right;\">\n",
       "      <th></th>\n",
       "      <th>Train_r2</th>\n",
       "      <th>Test_r2</th>\n",
       "    </tr>\n",
       "  </thead>\n",
       "  <tbody>\n",
       "    <tr>\n",
       "      <th>GrLivArea</th>\n",
       "      <td>0.716578</td>\n",
       "      <td>0.694518</td>\n",
       "    </tr>\n",
       "    <tr>\n",
       "      <th>TotRmsAbvGrd</th>\n",
       "      <td>0.666643</td>\n",
       "      <td>0.691269</td>\n",
       "    </tr>\n",
       "    <tr>\n",
       "      <th>1stFlrSF</th>\n",
       "      <td>0.693233</td>\n",
       "      <td>0.688560</td>\n",
       "    </tr>\n",
       "    <tr>\n",
       "      <th>GarageArea</th>\n",
       "      <td>0.667524</td>\n",
       "      <td>0.686759</td>\n",
       "    </tr>\n",
       "    <tr>\n",
       "      <th>GarageCars</th>\n",
       "      <td>0.666893</td>\n",
       "      <td>0.670151</td>\n",
       "    </tr>\n",
       "  </tbody>\n",
       "</table>\n",
       "</div>"
      ],
      "text/plain": [
       "              Train_r2   Test_r2\n",
       "GrLivArea     0.716578  0.694518\n",
       "TotRmsAbvGrd  0.666643  0.691269\n",
       "1stFlrSF      0.693233  0.688560\n",
       "GarageArea    0.667524  0.686759\n",
       "GarageCars    0.666893  0.670151"
      ]
     },
     "execution_count": 13,
     "metadata": {},
     "output_type": "execute_result"
    }
   ],
   "source": [
    "model2_scores.head()"
   ]
  },
  {
   "cell_type": "code",
   "execution_count": 14,
   "metadata": {},
   "outputs": [
    {
     "data": {
      "text/plain": [
       "'GrLivArea'"
      ]
     },
     "execution_count": 14,
     "metadata": {},
     "output_type": "execute_result"
    }
   ],
   "source": [
    "model2_scores.index[0]"
   ]
  },
  {
   "cell_type": "code",
   "execution_count": 15,
   "metadata": {},
   "outputs": [
    {
     "data": {
      "text/plain": [
       "Train_r2    0.716578\n",
       "Test_r2     0.694518\n",
       "Name: GrLivArea, dtype: float64"
      ]
     },
     "execution_count": 15,
     "metadata": {},
     "output_type": "execute_result"
    }
   ],
   "source": [
    "model2_scores.iloc[0]"
   ]
  },
  {
   "cell_type": "code",
   "execution_count": 16,
   "metadata": {},
   "outputs": [
    {
     "data": {
      "text/plain": [
       "pandas.core.series.Series"
      ]
     },
     "execution_count": 16,
     "metadata": {},
     "output_type": "execute_result"
    }
   ],
   "source": [
    "type(model2_scores.iloc[0])"
   ]
  },
  {
   "cell_type": "code",
   "execution_count": 17,
   "metadata": {},
   "outputs": [
    {
     "data": {
      "text/plain": [
       "0.716577872870524"
      ]
     },
     "execution_count": 17,
     "metadata": {},
     "output_type": "execute_result"
    }
   ],
   "source": [
    "model2_scores.iloc[0]['Train_r2']"
   ]
  },
  {
   "cell_type": "code",
   "execution_count": 18,
   "metadata": {},
   "outputs": [
    {
     "data": {
      "text/plain": [
       "(0.716577872870524, 0.6945179914955402)"
      ]
     },
     "execution_count": 18,
     "metadata": {},
     "output_type": "execute_result"
    }
   ],
   "source": [
    "tuple(model2_scores.iloc[0])"
   ]
  },
  {
   "cell_type": "markdown",
   "metadata": {},
   "source": [
    "# Continue adding features, one at a time and graph train / test accuracy against number of features.\n",
    "#### Hint: First formalize the previous question as a function. \n",
    "The graph should include the number of model feaures on the x axis and the  r^2 values for the train and test splits on the y-axis."
   ]
  },
  {
   "cell_type": "code",
   "execution_count": 19,
   "metadata": {},
   "outputs": [],
   "source": [
    "def add_feature(cur_feats, X, y):\n",
    "    ols = LinearRegression()\n",
    "    model_scores = {}\n",
    "    for iteration, col in enumerate(X.columns):\n",
    "        try:\n",
    "            train_r2 = []\n",
    "            test_r2 = []\n",
    "            feats = cur_feats + [col]\n",
    "            for i in range(3):\n",
    "                X_train, X_test, y_train, y_test = train_test_split(X, y)\n",
    "                ols.fit(X_train[feats], y_train)\n",
    "                train_r2.append(ols.score(X_train[feats], y_train))\n",
    "                test_r2.append(ols.score(X_test[feats], y_test))\n",
    "            model_scores[col] = (np.mean(train_r2), np.mean(test_r2))\n",
    "        except Exception as e:\n",
    "#             if iteration < 5:\n",
    "#                 print(e)\n",
    "            continue\n",
    "    model_scores = pd.DataFrame.from_dict(model_scores, orient='index')\n",
    "    model_scores.columns = ['Train_r2', 'Test_r2']\n",
    "    model_scores = model_scores.sort_values(by='Test_r2', ascending=False)\n",
    "    new_feat = model_scores.index[0]\n",
    "    cur_feats.append(new_feat)\n",
    "    new_model_scores = [len(cur_feats)] + list(model_scores.iloc[0])\n",
    "    return cur_feats, new_model_scores"
   ]
  },
  {
   "cell_type": "markdown",
   "metadata": {},
   "source": [
    "# Notes\n",
    "* Notice that once OverallQual is in the model, adding it again does not add more predictive value\n",
    "* Notice that while GrLivArea was the second most important feature by itself, the feature importance of some of the other top features shuffled when in conjunction with 'OverallQual'.\n",
    "* Notice that while the overall r^2 continues to improve, our gains are starting to trail off (we also cannot ever get >1 as an r^2 value)"
   ]
  },
  {
   "cell_type": "code",
   "execution_count": 20,
   "metadata": {},
   "outputs": [
    {
     "data": {
      "text/plain": [
       "[2, 0.716577872870524, 0.6945179914955402]"
      ]
     },
     "execution_count": 20,
     "metadata": {},
     "output_type": "execute_result"
    }
   ],
   "source": [
    "[2] + list(model2_scores.iloc[0])"
   ]
  },
  {
   "cell_type": "code",
   "execution_count": 21,
   "metadata": {},
   "outputs": [
    {
     "name": "stdout",
     "output_type": "stream",
     "text": [
      "Current Number of Features: 3\n",
      "Current Train r^2: 0.736945800689269\n",
      "Current Test r^2: 0.7728662620677277\n",
      "Current Number of Features: 4\n",
      "Current Train r^2: 0.7296746311388443\n",
      "Current Test r^2: 0.802890288384288\n",
      "Current Number of Features: 5\n",
      "Current Train r^2: 0.7383860032649384\n",
      "Current Test r^2: 0.8034660818091846\n",
      "Current Number of Features: 6\n",
      "Current Train r^2: 0.7396986061252764\n",
      "Current Test r^2: 0.8094431211187771\n",
      "Current Number of Features: 7\n",
      "Current Train r^2: 0.7377551375186068\n",
      "Current Test r^2: 0.8087931208141188\n",
      "Current Number of Features: 8\n",
      "Current Train r^2: 0.7386686932322865\n",
      "Current Test r^2: 0.8040328471035711\n",
      "Current Number of Features: 9\n",
      "Current Train r^2: 0.7458856342559733\n",
      "Current Test r^2: 0.8059574499793091\n",
      "Current Number of Features: 10\n",
      "Current Train r^2: 0.7581707397588575\n",
      "Current Test r^2: 0.8168693231518106\n",
      "Current Number of Features: 11\n",
      "Current Train r^2: 0.7708226633165579\n",
      "Current Test r^2: 0.8144927677429649\n",
      "Current Number of Features: 12\n",
      "Current Train r^2: 0.7691200230769318\n",
      "Current Test r^2: 0.830764937977928\n",
      "Current Number of Features: 13\n",
      "Current Train r^2: 0.7700479706180969\n",
      "Current Test r^2: 0.8312516389497723\n",
      "Current Number of Features: 14\n",
      "Current Train r^2: 0.7704719323484248\n",
      "Current Test r^2: 0.8278955705764073\n",
      "Current Number of Features: 15\n",
      "Current Train r^2: 0.7718908618944722\n",
      "Current Test r^2: 0.8309125848528979\n",
      "Current Number of Features: 16\n",
      "Current Train r^2: 0.7749931399178888\n",
      "Current Test r^2: 0.8282015925855943\n",
      "Current Number of Features: 17\n",
      "Current Train r^2: 0.7705639021277929\n",
      "Current Test r^2: 0.8393206769415068\n",
      "Current Number of Features: 18\n",
      "Current Train r^2: 0.7767410524085315\n",
      "Current Test r^2: 0.818620003295239\n",
      "Current Number of Features: 19\n",
      "Current Train r^2: 0.7689319481456165\n",
      "Current Test r^2: 0.8331016008374942\n",
      "Current Number of Features: 20\n",
      "Current Train r^2: 0.7709823908552352\n",
      "Current Test r^2: 0.8265308768097502\n",
      "Current Number of Features: 21\n",
      "Current Train r^2: 0.7735306863023284\n",
      "Current Test r^2: 0.8238957666421808\n",
      "Current Number of Features: 22\n",
      "Current Train r^2: 0.7739250007555224\n",
      "Current Test r^2: 0.8273326161401132\n",
      "Current Number of Features: 23\n",
      "Current Train r^2: 0.771741222802767\n",
      "Current Test r^2: 0.8297526384702844\n",
      "Current Number of Features: 24\n",
      "Current Train r^2: 0.7716511943298346\n",
      "Current Test r^2: 0.8474950918799588\n",
      "Current Number of Features: 25\n",
      "Current Train r^2: 0.7773789383160318\n",
      "Current Test r^2: 0.8320102560401824\n",
      "Current Number of Features: 26\n",
      "Current Train r^2: 0.7750163022887047\n",
      "Current Test r^2: 0.841799294909699\n",
      "Current Number of Features: 27\n",
      "Current Train r^2: 0.775114192146848\n",
      "Current Test r^2: 0.8343253746969322\n",
      "Current Number of Features: 28\n",
      "Current Train r^2: 0.7768976485000626\n",
      "Current Test r^2: 0.8504152594188347\n",
      "Current Number of Features: 29\n",
      "Current Train r^2: 0.7861627688852412\n",
      "Current Test r^2: 0.8357862268374875\n",
      "Current Number of Features: 30\n",
      "Current Train r^2: 0.782457538245291\n",
      "Current Test r^2: 0.8451989352169312\n",
      "Current Number of Features: 31\n",
      "Current Train r^2: 0.7869928699008849\n",
      "Current Test r^2: 0.8338912868096134\n",
      "Current Number of Features: 32\n",
      "Current Train r^2: 0.7838152320952588\n",
      "Current Test r^2: 0.8478731260194659\n",
      "Current Number of Features: 33\n",
      "Current Train r^2: 0.7880772408853414\n",
      "Current Test r^2: 0.8386617014517389\n",
      "Current Number of Features: 34\n",
      "Current Train r^2: 0.7870819255253944\n",
      "Current Test r^2: 0.8342282701017073\n",
      "Current Number of Features: 35\n",
      "Current Train r^2: 0.7878469269573078\n",
      "Current Test r^2: 0.8388011825306204\n",
      "Current Number of Features: 36\n",
      "Current Train r^2: 0.7854039740497433\n",
      "Current Test r^2: 0.8352539222593892\n",
      "Current Number of Features: 37\n",
      "Current Train r^2: 0.7880030841757476\n",
      "Current Test r^2: 0.8423093903912201\n",
      "Current Number of Features: 38\n",
      "Current Train r^2: 0.7936112132493381\n",
      "Current Test r^2: 0.8305120022455933\n",
      "Current Number of Features: 39\n",
      "Current Train r^2: 0.787960106822478\n",
      "Current Test r^2: 0.8447149253506314\n",
      "Current Number of Features: 40\n",
      "Current Train r^2: 0.7860895913704052\n",
      "Current Test r^2: 0.836891025794737\n",
      "Current Number of Features: 41\n",
      "Current Train r^2: 0.791059495306007\n",
      "Current Test r^2: 0.8297187560226474\n",
      "Current Number of Features: 42\n",
      "Current Train r^2: 0.7942300129537907\n",
      "Current Test r^2: 0.8216133218033118\n",
      "Current Number of Features: 43\n",
      "Current Train r^2: 0.7903334259963336\n",
      "Current Test r^2: 0.8298484071856261\n",
      "Current Number of Features: 44\n",
      "Current Train r^2: 0.7902664801295124\n",
      "Current Test r^2: 0.8448614471548751\n",
      "Current Number of Features: 45\n",
      "Current Train r^2: 0.7911587507357895\n",
      "Current Test r^2: 0.8447275073820985\n",
      "Current Number of Features: 46\n",
      "Current Train r^2: 0.7972704328403021\n",
      "Current Test r^2: 0.8239340187959242\n",
      "Current Number of Features: 47\n",
      "Current Train r^2: 0.7926590550800032\n",
      "Current Test r^2: 0.8314904780704717\n",
      "Current Number of Features: 48\n",
      "Current Train r^2: 0.7909452776871607\n",
      "Current Test r^2: 0.8429911206502506\n",
      "Current Number of Features: 49\n",
      "Current Train r^2: 0.7921015225396886\n",
      "Current Test r^2: 0.8404218990976747\n",
      "Current Number of Features: 50\n",
      "Current Train r^2: 0.7943261379235405\n",
      "Current Test r^2: 0.8383019157267039\n",
      "Current Number of Features: 51\n",
      "Current Train r^2: 0.7937725901325554\n",
      "Current Test r^2: 0.8344697224807781\n",
      "Current Number of Features: 52\n",
      "Current Train r^2: 0.7933310284871412\n",
      "Current Test r^2: 0.8328674883099104\n",
      "Current Number of Features: 53\n",
      "Current Train r^2: 0.7960969039149889\n",
      "Current Test r^2: 0.8270575617147363\n",
      "Current Number of Features: 54\n",
      "Current Train r^2: 0.7919124696163059\n",
      "Current Test r^2: 0.8424674925402128\n",
      "Current Number of Features: 55\n",
      "Current Train r^2: 0.7906323474099471\n",
      "Current Test r^2: 0.844213137957099\n",
      "Current Number of Features: 56\n",
      "Current Train r^2: 0.7927095639669268\n",
      "Current Test r^2: 0.8313739917653264\n",
      "Current Number of Features: 57\n",
      "Current Train r^2: 0.7901610612781133\n",
      "Current Test r^2: 0.8464712337980987\n",
      "Current Number of Features: 58\n",
      "Current Train r^2: 0.7900940403231337\n",
      "Current Test r^2: 0.8498301453844627\n",
      "Current Number of Features: 59\n",
      "Current Train r^2: 0.7985419859954476\n",
      "Current Test r^2: 0.8175063128069696\n"
     ]
    }
   ],
   "source": [
    "cur_feats = ['OverallQual', 'GrLivArea']\n",
    "model_scores = [[2, 0.7064032126207153, 0.7216830264190167]] #List of nested lists [[n_feats, train_r2, test_r2], [n_feats, train_r2, test_r2], ... ]\n",
    "for i in range(3,60):\n",
    "    cur_feats, new_model_scores = add_feature(cur_feats, X, y)\n",
    "    model_scores.append(new_model_scores)\n",
    "    print('Current Number of Features:', new_model_scores[0])\n",
    "    print('Current Train r^2:', new_model_scores[1])\n",
    "    print('Current Test r^2:', new_model_scores[2])"
   ]
  },
  {
   "cell_type": "code",
   "execution_count": 22,
   "metadata": {},
   "outputs": [
    {
     "data": {
      "text/plain": [
       "<matplotlib.legend.Legend at 0x1a2d327c18>"
      ]
     },
     "execution_count": 22,
     "metadata": {},
     "output_type": "execute_result"
    },
    {
     "data": {
      "image/png": "[encoded data removed]",
      "text/plain": [
       "<Figure size 432x288 with 1 Axes>"
      ]
     },
     "metadata": {},
     "output_type": "display_data"
    }
   ],
   "source": [
    "plt.scatter([s[0] for s in model_scores], [s[1] for s in model_scores], label='Train r^2')\n",
    "plt.scatter([s[0] for s in model_scores], [s[2] for s in model_scores], label='Test r^2')\n",
    "plt.legend()"
   ]
  },
  {
   "cell_type": "markdown",
   "metadata": {},
   "source": [
    "# Repeat this process using Mean Squarred Error (MSE) instead of the R^2 Value\n",
    "Note: MSE should be minimized as opposed to R^2 which we were maximizing."
   ]
  },
  {
   "cell_type": "code",
   "execution_count": 23,
   "metadata": {},
   "outputs": [],
   "source": [
    "from sklearn.metrics import mean_squared_error, mean_absolute_error"
   ]
  },
  {
   "cell_type": "markdown",
   "metadata": {},
   "source": [
    "## Check out the docstring for how to use this function."
   ]
  },
  {
   "cell_type": "code",
   "execution_count": 25,
   "metadata": {},
   "outputs": [],
   "source": [
    "mean_squared_error?"
   ]
  },
  {
   "cell_type": "code",
   "execution_count": 26,
   "metadata": {},
   "outputs": [],
   "source": [
    "#Your code here\n",
    "def add_feature(cur_feats, X, y):\n",
    "    ols = LinearRegression()\n",
    "    model_scores = {}\n",
    "    for iteration, col in enumerate(X.columns):\n",
    "        try:\n",
    "            train_err = []\n",
    "            test_err = []\n",
    "            feats = cur_feats + [col]\n",
    "            for i in range(3):\n",
    "                X_train, X_test, y_train, y_test = train_test_split(X, y)\n",
    "                ols.fit(X_train[feats], y_train)\n",
    "                y_hat_train = ols.predict(X_train[feats])\n",
    "                y_hat_test = ols.predict(X_test[feats])\n",
    "                train_err.append(mean_squared_error(y_train, y_hat_train))\n",
    "                test_err.append(mean_squared_error(y_test, y_hat_test))\n",
    "            model_scores[col] = (np.mean(train_err), np.mean(test_err))\n",
    "        except Exception as e:\n",
    "#             if iteration < 5:\n",
    "#                 print(e)\n",
    "            continue\n",
    "    model_scores = pd.DataFrame.from_dict(model_scores, orient='index')\n",
    "    model_scores.columns = ['Train_err', 'Test_err']\n",
    "    model_scores = model_scores.sort_values(by='Test_err')\n",
    "    new_feat = model_scores.index[0]\n",
    "    cur_feats.append(new_feat)\n",
    "    new_model_scores = [len(cur_feats)] + list(model_scores.iloc[0])\n",
    "    return cur_feats, new_model_scores"
   ]
  },
  {
   "cell_type": "code",
   "execution_count": 27,
   "metadata": {},
   "outputs": [
    {
     "data": {
      "text/plain": [
       "<matplotlib.legend.Legend at 0x109be1e80>"
      ]
     },
     "execution_count": 27,
     "metadata": {},
     "output_type": "execute_result"
    },
    {
     "data": {
      "image/png": "[encoded data removed]",
      "text/plain": [
       "<Figure size 432x288 with 1 Axes>"
      ]
     },
     "metadata": {},
     "output_type": "display_data"
    }
   ],
   "source": [
    "cur_feats = ['OverallQual', 'GrLivArea']\n",
    "model_scores = [[2, 0.7064032126207153, 0.7216830264190167]] #List of nested lists [[n_feats, train_r2, test_r2], [n_feats, train_r2, test_r2], ... ]\n",
    "for i in range(3,60):\n",
    "    cur_feats, new_model_scores = add_feature(cur_feats, X, y)\n",
    "    model_scores.append(new_model_scores)\n",
    "plt.scatter([s[0] for s in model_scores], [s[1] for s in model_scores], label='Train MSE')\n",
    "plt.scatter([s[0] for s in model_scores], [s[2] for s in model_scores], label='Test MSE')\n",
    "plt.legend()"
   ]
  },
  {
   "cell_type": "code",
   "execution_count": null,
   "metadata": {},
   "outputs": [],
   "source": []
  }
 ],
 "metadata": {
  "kernelspec": {
   "display_name": "Python 3",
   "language": "python",
   "name": "python3"
  },
  "language_info": {
   "codemirror_mode": {
    "name": "ipython",
    "version": 3
   },
   "file_extension": ".py",
   "mimetype": "text/x-python",
   "name": "python",
   "nbconvert_exporter": "python",
   "pygments_lexer": "ipython3",
   "version": "3.6.5"
  }
 },
 "nbformat": 4,
 "nbformat_minor": 2
}
